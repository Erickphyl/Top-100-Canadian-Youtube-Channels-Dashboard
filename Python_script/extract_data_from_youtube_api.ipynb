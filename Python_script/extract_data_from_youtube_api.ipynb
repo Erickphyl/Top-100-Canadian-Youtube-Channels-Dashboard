{
 "cells": [
  {
   "cell_type": "code",
   "execution_count": 22,
   "id": "7418c064-b36c-43b9-8fb6-4ff34ea9e2cf",
   "metadata": {},
   "outputs": [
    {
     "name": "stdout",
     "output_type": "stream",
     "text": [
      "CSV created.\n"
     ]
    }
   ],
   "source": [
    "import pandas as pd\n",
    "from googleapiclient.discovery import build\n",
    "\n",
    "# Load CSV\n",
    "df = pd.read_csv(\"top_100_canadian_youtuber_data.csv\")\n",
    "\n",
    "# Extract ChannelID from NAME\n",
    "df['ChannelID'] = df['NAME'].str.split('@', n=1).str[1].str.strip()\n",
    "\n",
    "# Set up YouTube API\n",
    "API_KEY = \"API KEY\"\n",
    "youtube = build('youtube', 'v3', developerKey=API_KEY)\n",
    "\n",
    "# Add new columns to store API results\n",
    "df['total_subscribers'] = None\n",
    "df['total_views'] = None\n",
    "df['total_videos'] = None\n",
    "df['category'] = None  # simplified broad category\n",
    "\n",
    "# Mapping Wikipedia topics to broad categories\n",
    "CATEGORY_MAP = {\n",
    "    \"Music\": \"Music\",\n",
    "    \"Entertainment\": \"Entertainment\",\n",
    "    \"Video_game_culture\": \"Gaming\",\n",
    "    \"Sport\": \"Sports\",\n",
    "    \"Lifestyle\": \"Lifestyle\",\n",
    "    \"Technology\": \"Technology\",\n",
    "    \"Food\": \"Food\",\n",
    "    \"Education\": \"Education\",\n",
    "    \"Film\": \"Entertainment\",\n",
    "    \"Television_program\": \"Entertainment\",\n",
    "    \"Humour\": \"Entertainment\",\n",
    "    \"Society\": \"Lifestyle\",\n",
    "    \"Health\": \"Lifestyle\",\n",
    "    \"Fashion\": \"Lifestyle\",\n",
    "}\n",
    "\n",
    "def map_to_category(urls):\n",
    "    \"\"\"Map YouTube topic URLs to a single broad category.\"\"\"\n",
    "    if not urls:\n",
    "        return \"Other\"\n",
    "    for url in urls:\n",
    "        topic = url.split(\"/\")[-1]  # get last part of URL\n",
    "        if topic in CATEGORY_MAP:\n",
    "            return CATEGORY_MAP[topic]\n",
    "    return \"Other\"\n",
    "\n",
    "# Loop through rows and fetch stats + mapped category\n",
    "for i, row in df.iterrows():\n",
    "    try:\n",
    "        request = youtube.channels().list(\n",
    "            part=\"snippet,statistics,topicDetails\",\n",
    "            id=row['ChannelID']\n",
    "        )\n",
    "        response = request.execute()\n",
    "        channel = response['items'][0]\n",
    "        stats = channel['statistics']\n",
    "        topics = channel.get('topicDetails', {}).get('topicCategories', [])\n",
    "\n",
    "        # Store stats\n",
    "        df.at[i, 'total_subscribers'] = stats.get('subscriberCount', 0)\n",
    "        df.at[i, 'total_views'] = stats.get('viewCount', 0)\n",
    "        df.at[i, 'total_videos'] = stats.get('videoCount', 0)\n",
    "\n",
    "        # Assign one broad category\n",
    "        df.at[i, 'category'] = map_to_category(topics)\n",
    "    except Exception as e:\n",
    "        print(f\"Error fetching {row['ChannelID']}: {e}\")\n",
    "\n",
    "# Save updated CSV\n",
    "df.to_csv(\"updated_top_100_canadian_youtuber_data.csv\", index=False)\n",
    "print(\"CSV created.\")\n"
   ]
  }
 ],
 "metadata": {
  "kernelspec": {
   "display_name": "Python [conda env:base] *",
   "language": "python",
   "name": "conda-base-py"
  },
  "language_info": {
   "codemirror_mode": {
    "name": "ipython",
    "version": 3
   },
   "file_extension": ".py",
   "mimetype": "text/x-python",
   "name": "python",
   "nbconvert_exporter": "python",
   "pygments_lexer": "ipython3",
   "version": "3.12.7"
  }
 },
 "nbformat": 4,
 "nbformat_minor": 5
}
